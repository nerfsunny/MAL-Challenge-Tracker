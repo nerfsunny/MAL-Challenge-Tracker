{
 "cells": [
  {
   "cell_type": "markdown",
   "metadata": {},
   "source": [
    "[MAL API Documentation](https://myanimelist.net/apiconfig/references/api/v2#section/Versioning)"
   ]
  },
  {
   "cell_type": "code",
   "execution_count": null,
   "metadata": {},
   "outputs": [],
   "source": [
    "import pandas as pd\n",
    "import json\n",
    "from helper.loadMALJSONIntoDF import loadMALJSONIntoDF\n",
    "from helper.misc import storeAnimeUsed\n",
    "import numpy as np"
   ]
  },
  {
   "cell_type": "code",
   "execution_count": null,
   "metadata": {},
   "outputs": [],
   "source": [
    "with open(\"./MAL Anime Data/watching.json\", \"r\") as file:\n",
    "    watching = json.load(file)\n",
    "\n",
    "with open(\"./MAL Anime Data/completed.json\", \"r\") as file:\n",
    "    completed = json.load(file)"
   ]
  },
  {
   "cell_type": "code",
   "execution_count": null,
   "metadata": {},
   "outputs": [],
   "source": [
    "nodeColumns = ['id', 'title', 'genres', 'rating', 'media_type', 'studios']\n",
    "listStatusColumns = ['status', 'start_date', 'finish_date']\n",
    "\n",
    "myMALDF_Anime = pd.DataFrame(columns=nodeColumns+listStatusColumns)\n",
    "\n",
    "myMALDF_Anime = loadMALJSONIntoDF(watching, nodeColumns, listStatusColumns, myMALDF_Anime)\n",
    "myMALDF_Anime = loadMALJSONIntoDF(completed, nodeColumns, listStatusColumns, myMALDF_Anime)\n",
    "myMALDF_Anime"
   ]
  },
  {
   "cell_type": "markdown",
   "metadata": {},
   "source": [
    "# Studio Challenge\n",
    "\n",
    "This challenge is similar to the pre-existing studio challenge, but rather than forcing you to watch only one studio, it aims at exposing you to a lot of studios (40, to be exact) giving members the opportunity to find a studio they have never knew of before.\n",
    "\n",
    "　This challenge is similar to the pre-existing studio challenge, but rather than forcing you to watch only one studio, it aims at exposing you to a lot of studios (40, to be exact) giving members the opportunity to find a studio they have never knew of before.\n",
    "\n",
    "HOW-TO:\n",
    "- Find the Studios List [here](https://myanimelist.net/anime/producer).\n",
    "- You can use any studio, but your challenge must contain 40 different studios.\n",
    "- Studios that are clearly \"part\" of another studio count as only 1 studio.\n",
    "    - Example: Bandai includes > Bandai, Bandai Channel, Bandai Entertainment, etc.\n",
    "\n",
    "\n",
    "Difficulty: complete a list of 40 different studios.\n",
    "- If an anime has two or more studios, it can only count towards one for the challenge.\n",
    "- This challenge can be completed thrice (x3). (added on Nov 05, 2019)\n",
    "\n",
    "Previously completed series aren't allowed. Neither is re-watching.\n",
    "- Series previously started, but not finished, may be used.\n",
    "- Airing can be used, but you must complete the series, so you can only turn-in the challenge after the series has finished airing.\n",
    "\n",
    "Only TV types, of any length are allowed.\n",
    "\n",
    "Your challenge \"Starting Date\" is the day you post.\n",
    "- Remember that it's required to add the start and end dates to any anime you use for our challenges.\n",
    "\n",
    "You cannot use the same entry more than once across all difficulties.\n",
    "\n",
    "To make this easier on the inspectors, you MUST list the studios in alphabetical order. Otherwise it's an instant invalid.\n",
    "\n",
    "[Challenge Prompt](https://myanimelist.net/forum/?topicid=1504823)\n",
    "\n",
    "[My Challenge Form](https://myanimelist.net/forum/?topicid=1504823&show=400#msg60311165)"
   ]
  },
  {
   "cell_type": "code",
   "execution_count": null,
   "metadata": {},
   "outputs": [],
   "source": [
    "studioChallengeDate = '2020-07-25'\n",
    "notEligibleMediaTypes = ['ona', 'movie', 'special', 'music', 'ova']\n",
    "\n",
    "studiosChallengeDF = myMALDF_Anime.loc[:, ['id', 'title', 'status', 'media_type', 'studios', 'finish_date']]\n",
    "\n",
    "indexValues = studiosChallengeDF.index[studiosChallengeDF['finish_date'] == 'N/A'].intersection(studiosChallengeDF.index[studiosChallengeDF['status'] == 'completed'])\n",
    "studiosChallengeDF.drop(indexValues, axis='index', inplace=True)\n",
    "\n",
    "indexValues = studiosChallengeDF.index[studiosChallengeDF['media_type'].isin(notEligibleMediaTypes)]\n",
    "studiosChallengeDF.drop(indexValues, axis='index', inplace=True)\n",
    "\n",
    "indexValues = studiosChallengeDF.index[studiosChallengeDF['finish_date'] < studioChallengeDate].intersection(studiosChallengeDF.index[studiosChallengeDF['status'] == 'completed'])\n",
    "studiosChallengeDF.drop(indexValues, axis='index', inplace=True)\n",
    "\n",
    "indexValues = studiosChallengeDF.index[~studiosChallengeDF['studios'].astype(bool)]\n",
    "studiosChallengeDF.drop(indexValues, axis='index', inplace=True)\n",
    "\n",
    "studiosChallengeDF.sort_values('finish_date', inplace=True, ignore_index=True)\n",
    "\n",
    "studiosChallengeDF['color'] = 'N/A'\n",
    "studiosChallengeDF['label'] = 'N/A'\n",
    "studiosUsed = []\n",
    "indexValues = []\n",
    "\n",
    "for rowIndex in range(studiosChallengeDF.shape[0]):\n",
    "    res = list(set(studiosChallengeDF.iloc[rowIndex]['studios']).difference(studiosUsed))\n",
    "\n",
    "    if res:\n",
    "        studiosUsed.append(res[0])\n",
    "        studiosChallengeDF.at[rowIndex, 'studios'] = res[0]\n",
    "        studiosChallengeDF.at[rowIndex, 'color'] = 'green' if studiosChallengeDF.at[rowIndex, 'status'] == 'completed' else 'orange'\n",
    "        studiosChallengeDF.at[rowIndex, 'label'] = 'o' if studiosChallengeDF.at[rowIndex, 'status'] == 'completed' else 'x'\n",
    "    else:\n",
    "        indexValues.append(rowIndex)\n",
    "\n",
    "studiosChallengeDF.drop(index=indexValues, columns=['media_type', 'finish_date'], inplace=True)\n",
    "studiosChallengeDF.sort_values('studios', inplace=True, ignore_index=True)\n",
    "\n",
    "studiosChallengeDF"
   ]
  }
 ],
 "metadata": {
  "interpreter": {
   "hash": "3478d7a56e3ae256c4fe631e3259ba8dfa16db891584676be712fe1334e18fc3"
  },
  "kernelspec": {
   "display_name": "Python 3.8.9 ('challengesVENV': venv)",
   "language": "python",
   "name": "python3"
  },
  "language_info": {
   "codemirror_mode": {
    "name": "ipython",
    "version": 3
   },
   "file_extension": ".py",
   "mimetype": "text/x-python",
   "name": "python",
   "nbconvert_exporter": "python",
   "pygments_lexer": "ipython3",
   "version": "3.8.9"
  },
  "orig_nbformat": 4
 },
 "nbformat": 4,
 "nbformat_minor": 2
}
